{
 "cells": [
  {
   "cell_type": "code",
   "execution_count": 1,
   "metadata": {
    "collapsed": true
   },
   "outputs": [],
   "source": [
    "import tensorflow as tf\n",
    "import numpy as np"
   ]
  },
  {
   "cell_type": "code",
   "execution_count": 2,
   "metadata": {
    "collapsed": false
   },
   "outputs": [],
   "source": [
    "train_label= np.loadtxt('train_label2.txt',delimiter=',', dtype=np.float32)\n",
    "train_label=train_label.reshape(-1,1)\n",
    "\n",
    "test_label= np.loadtxt('test_label2.txt',delimiter=',', dtype=np.float32)\n",
    "test_label=test_label.reshape(-1,1)\n",
    "\n",
    "train_img= np.loadtxt('train_img3.txt',delimiter=',', dtype=np.float32)\n",
    "\n",
    "test_img= np.loadtxt('test_img3.txt',delimiter=',', dtype=np.float32)\n",
    "\n",
    "train_img=np.transpose(train_img)\n",
    "train_img=np.reshape(train_img,[-1,3*28*28])\n",
    "test_img=np.transpose(test_img)\n",
    "test_img=np.reshape(test_img,[-1,3*28*28])"
   ]
  },
  {
   "cell_type": "code",
   "execution_count": 3,
   "metadata": {
    "collapsed": false
   },
   "outputs": [
    {
     "data": {
      "text/plain": [
       "(10000, 2352)"
      ]
     },
     "execution_count": 3,
     "metadata": {},
     "output_type": "execute_result"
    }
   ],
   "source": [
    "train_img.shape"
   ]
  },
  {
   "cell_type": "code",
   "execution_count": 15,
   "metadata": {
    "collapsed": false
   },
   "outputs": [
    {
     "name": "stdout",
     "output_type": "stream",
     "text": [
      "(50, 2352)\n",
      "(50, 1)\n"
     ]
    }
   ],
   "source": [
    "batch_xs=np.zeros([50,3*28*28])\n",
    "batch_ys=np.zeros([50,1])\n",
    "for j in range(50):\n",
    "    batch_xs[j,:] = train_img[np.random.choice(2000,1),:]\n",
    "    batch_ys[j,:] = train_label[np.random.choice(2000,1),:]\n",
    "    \n",
    "print(batch_xs.shape)\n",
    "print(batch_ys.shape)"
   ]
  },
  {
   "cell_type": "code",
   "execution_count": 4,
   "metadata": {
    "collapsed": false
   },
   "outputs": [
    {
     "name": "stdout",
     "output_type": "stream",
     "text": [
      "Learning started.\n",
      "Epoch: 0001 cost = 3.092314430\n",
      "Epoch: 0002 cost = 0.332067181\n",
      "Epoch: 0003 cost = 0.331962325\n",
      "Epoch: 0004 cost = 0.321106450\n",
      "Epoch: 0005 cost = 0.336569742\n",
      "Epoch: 0006 cost = 0.337223149\n",
      "Epoch: 0007 cost = 0.318352387\n",
      "Epoch: 0008 cost = 0.333068678\n",
      "Epoch: 0009 cost = 0.313460483\n",
      "Epoch: 0010 cost = 0.318768267\n",
      "Epoch: 0011 cost = 0.325595538\n",
      "Epoch: 0012 cost = 0.321933556\n",
      "Epoch: 0013 cost = 0.334010931\n",
      "Epoch: 0014 cost = 0.327259651\n",
      "Epoch: 0015 cost = 0.335359533\n",
      "Learning Finished!\n",
      "Accuracy: 0.925667\n"
     ]
    }
   ],
   "source": [
    "tf.reset_default_graph()\n",
    "learning_rate = 0.001\n",
    "training_epochs = 15\n",
    "batch_size = 50\n",
    "\n",
    "X=tf.placeholder(tf.float32, [None, 3*28*28])\n",
    "X_img=tf.reshape(X, [-1,3, 28, 28])\n",
    "X_img=tf.transpose(X_img, [0, 2, 3, 1])\n",
    "\n",
    "Y=tf.placeholder(tf.int32, [None, 1])\n",
    "Y_one_hot=tf.one_hot(Y, 2)\n",
    "Y_one_hot=tf.reshape(Y_one_hot, [-1,2])\n",
    "keep_prob = tf.placeholder(tf.float32)\n",
    "\n",
    "\n",
    "W1 = tf.get_variable(\"W1\", shape=[3,3,3,64], initializer=tf.contrib.layers.xavier_initializer())\n",
    "L1=tf.nn.conv2d(X_img, W1, strides=[1,1,1,1], padding='SAME')\n",
    "L1=tf.nn.relu(L1)\n",
    "L1=tf.nn.max_pool(L1, ksize=[1,2,2,1], strides=[1,2,2,1], padding='SAME')\n",
    "L1 = tf.nn.dropout(L1, keep_prob=keep_prob)\n",
    "\n",
    "# L1 = [batch_size,14,14,32]\n",
    "\n",
    "W2 = tf.get_variable(\"W2\", shape=[3,3,64,128], initializer=tf.contrib.layers.xavier_initializer())\n",
    "L2=tf.nn.conv2d(L1, W2, strides=[1,1,1,1], padding='SAME')\n",
    "L2=tf.nn.relu(L2)\n",
    "L2=tf.nn.max_pool(L2, ksize=[1,2,2,1], strides=[1,2,2,1], padding='SAME')\n",
    "L2 = tf.nn.dropout(L2, keep_prob=keep_prob)\n",
    "\n",
    "W3 = tf.get_variable(\"W3\", shape=[3,3,128,256], initializer=tf.contrib.layers.xavier_initializer())\n",
    "L3=tf.nn.conv2d(L2, W3, strides=[1,1,1,1], padding='SAME')\n",
    "L3=tf.nn.relu(L3)\n",
    "L3=tf.nn.max_pool(L3, ksize=[1,2,2,1], strides=[1,2,2,1], padding='SAME')\n",
    "L3 = tf.nn.dropout(L3, keep_prob=keep_prob)\n",
    "L3_flat = tf.reshape(L3, [-1, 256 * 4 * 4])\n",
    "\n",
    "W4 = tf.get_variable(\"W4\", shape=[256 * 4 * 4, 625],initializer=tf.contrib.layers.xavier_initializer())\n",
    "b4 = tf.Variable(tf.random_normal([625]))\n",
    "L4 = tf.nn.relu(tf.matmul(L3_flat, W4) + b4)\n",
    "L4 = tf.nn.dropout(L4, keep_prob=keep_prob)\n",
    "\n",
    "W5 = tf.get_variable(\"W5\", shape=[625, 2],initializer=tf.contrib.layers.xavier_initializer())\n",
    "b5 = tf.Variable(tf.random_normal([2]))\n",
    "hypothesis = tf.matmul(L4, W5) + b5\n",
    "\n",
    "\n",
    "cost=tf.reduce_mean(tf.nn.softmax_cross_entropy_with_logits(logits=hypothesis, labels=Y_one_hot))\n",
    "optimizer=tf.train.AdamOptimizer(learning_rate=learning_rate).minimize(cost)\n",
    "\n",
    "sess=tf.Session()\n",
    "sess.run(tf.global_variables_initializer())\n",
    "\n",
    "print('Learning started.')\n",
    "\n",
    "for epoch in range(training_epochs):\n",
    "    avg_cost = 0\n",
    "    total_batch = int(10000 / 100)\n",
    "\n",
    "    for i in range(total_batch):\n",
    "        #batch_xs, batch_ys = tf.train.batch([train_img, train_label], batch_size=50, enqueue_many=True)\n",
    "        batch_xs=np.zeros([100,3*28*28])\n",
    "        batch_ys=np.zeros([100,1])\n",
    "        for j in range(100):\n",
    "            batch_xs[j,:] = train_img[np.random.choice(10000,1),:]\n",
    "            batch_ys[j,:] = train_label[np.random.choice(10000,1),:]\n",
    "        \n",
    "        #for j in np.random.choice(2000,50):\n",
    "            #batch_xs = np.stack(train_img[j,:])\n",
    "            #batch_ys = np.stack(train_label[i,:])\n",
    "        c, _ = sess.run([cost, optimizer], feed_dict={X: batch_xs, Y: batch_ys, keep_prob: 0.7})\n",
    "        #c = cost.eval(session=sess, feed_dict={X: batch_xs, Y: batch_ys})\n",
    "        #_ = optimizer.eval(session=sess, feed_dict={X: batch_xs, Y: batch_ys})\n",
    "        avg_cost += c / total_batch\n",
    "\n",
    "    print('Epoch:', '%04d' % (epoch + 1), 'cost =', '{:.9f}'.format(avg_cost))\n",
    "\n",
    "print('Learning Finished!')\n",
    "\n",
    "# Test model and check accuracy\n",
    "correct_prediction = tf.equal(tf.argmax(hypothesis, 1), tf.argmax(Y_one_hot, 1))\n",
    "accuracy = tf.reduce_mean(tf.cast(correct_prediction, tf.float32))\n",
    "print('Accuracy:', sess.run(accuracy, feed_dict={\n",
    "      X: test_img, Y: test_label, keep_prob: 1}))"
   ]
  },
  {
   "cell_type": "code",
   "execution_count": null,
   "metadata": {
    "collapsed": true
   },
   "outputs": [],
   "source": []
  }
 ],
 "metadata": {
  "anaconda-cloud": {},
  "kernelspec": {
   "display_name": "Python [conda root]",
   "language": "python",
   "name": "conda-root-py"
  },
  "language_info": {
   "codemirror_mode": {
    "name": "ipython",
    "version": 3
   },
   "file_extension": ".py",
   "mimetype": "text/x-python",
   "name": "python",
   "nbconvert_exporter": "python",
   "pygments_lexer": "ipython3",
   "version": "3.5.2"
  }
 },
 "nbformat": 4,
 "nbformat_minor": 1
}
